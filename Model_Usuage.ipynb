{
 "cells": [
  {
   "cell_type": "code",
   "execution_count": 1,
   "metadata": {},
   "outputs": [],
   "source": [
    "import joblib\n",
    "import numpy as np\n",
    "loaded_model = joblib.load('DragonRealEstates.joblib')"
   ]
  },
  {
   "cell_type": "code",
   "execution_count": 4,
   "metadata": {},
   "outputs": [
    {
     "data": {
      "text/plain": [
       "array([21.919])"
      ]
     },
     "execution_count": 4,
     "metadata": {},
     "output_type": "execute_result"
    }
   ],
   "source": [
    "features=np.array([[-0.43942006,  3.12628155, -1.12165014, -0.27288841, -1.42262747,\n",
    "       -0.93979304, -1.31238772,  2.61111401, -1.0016859 , -0.5778192 ,\n",
    "       -0.97491834,  0.41164221, -0.86091034]])\n",
    "loaded_model.predict(features)\n"
   ]
  },
  {
   "cell_type": "code",
   "execution_count": 5,
   "metadata": {},
   "outputs": [
    {
     "name": "stdout",
     "output_type": "stream",
     "text": [
      "Original prediction: 21.91900000000002\n",
      "New prediction: 22.71600000000001\n",
      "Difference: 0.7969999999999935\n"
     ]
    }
   ],
   "source": [
    "# Original features\n",
    "original_features = np.array([[-0.43942006,  3.12628155, -1.12165014, -0.27288841, -1.42262747,\n",
    "       -0.93979304, -1.31238772,  2.61111401, -1.0016859 , -0.5778192 ,\n",
    "       -0.97491834,  0.41164221, -0.86091034]])\n",
    "\n",
    "# Original prediction\n",
    "original_prediction = loaded_model.predict(original_features)\n",
    "print(\"Original prediction:\", original_prediction[0])\n",
    "\n",
    "# Modified features (changing 6th feature)\n",
    "modified_features = original_features.copy()\n",
    "modified_features[0][5] = 0  # Change the 6th feature to 0\n",
    "\n",
    "# New prediction\n",
    "new_prediction = loaded_model.predict(modified_features)\n",
    "print(\"New prediction:\", new_prediction[0])\n",
    "\n",
    "# Calculate the difference\n",
    "difference = new_prediction[0] - original_prediction[0]\n",
    "print(\"Difference:\", difference)"
   ]
  },
  {
   "cell_type": "code",
   "execution_count": 6,
   "metadata": {},
   "outputs": [
    {
     "name": "stdout",
     "output_type": "stream",
     "text": [
      "Original 6th feature value: -0.93979304\n",
      "Modified 6th feature value: 0.0\n",
      "Original prediction: 21.919\n",
      "New prediction: 22.716\n",
      "Difference: 0.797\n",
      "Positive correlation: Increasing the 6th feature increases the prediction.\n"
     ]
    }
   ],
   "source": [
    "# ... (previous code remains the same)\n",
    "\n",
    "print(f\"Original 6th feature value: {original_features[0][5]}\")\n",
    "print(f\"Modified 6th feature value: {modified_features[0][5]}\")\n",
    "print(f\"Original prediction: {original_prediction[0]:.3f}\")\n",
    "print(f\"New prediction: {new_prediction[0]:.3f}\")\n",
    "print(f\"Difference: {difference:.3f}\")\n",
    "\n",
    "if difference > 0:\n",
    "    print(\"Positive correlation: Increasing the 6th feature increases the prediction.\")\n",
    "elif difference < 0:\n",
    "    print(\"Negative correlation: Increasing the 6th feature decreases the prediction.\")\n",
    "else:\n",
    "    print(\"No correlation: Changing the 6th feature doesn't affect the prediction.\")"
   ]
  },
  {
   "cell_type": "code",
   "execution_count": null,
   "metadata": {},
   "outputs": [],
   "source": []
  },
  {
   "cell_type": "code",
   "execution_count": null,
   "metadata": {},
   "outputs": [],
   "source": []
  }
 ],
 "metadata": {
  "kernelspec": {
   "display_name": "base",
   "language": "python",
   "name": "python3"
  },
  "language_info": {
   "codemirror_mode": {
    "name": "ipython",
    "version": 3
   },
   "file_extension": ".py",
   "mimetype": "text/x-python",
   "name": "python",
   "nbconvert_exporter": "python",
   "pygments_lexer": "ipython3",
   "version": "3.12.4"
  }
 },
 "nbformat": 4,
 "nbformat_minor": 2
}
